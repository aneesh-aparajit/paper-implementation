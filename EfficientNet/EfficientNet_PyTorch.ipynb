{
 "cells": [
  {
   "cell_type": "markdown",
   "id": "82e324ea",
   "metadata": {},
   "source": [
    "## EfficientNet: Rethinking Model Scaling for Convolutional Neural Networks\n",
    "Link: https://arxiv.org/pdf/1905.11946.pdf"
   ]
  },
  {
   "cell_type": "markdown",
   "id": "57965cc5",
   "metadata": {},
   "source": [
    "- In this paper, we systematically study model scaling and identify that carefully balancing network depth, width and resolution"
   ]
  },
  {
   "cell_type": "code",
   "execution_count": null,
   "id": "3411a0b7",
   "metadata": {},
   "outputs": [],
   "source": []
  }
 ],
 "metadata": {
  "kernelspec": {
   "display_name": "Python 3 (ipykernel)",
   "language": "python",
   "name": "python3"
  },
  "language_info": {
   "codemirror_mode": {
    "name": "ipython",
    "version": 3
   },
   "file_extension": ".py",
   "mimetype": "text/x-python",
   "name": "python",
   "nbconvert_exporter": "python",
   "pygments_lexer": "ipython3",
   "version": "3.9.12"
  },
  "toc": {
   "base_numbering": 1,
   "nav_menu": {},
   "number_sections": true,
   "sideBar": true,
   "skip_h1_title": false,
   "title_cell": "Table of Contents",
   "title_sidebar": "Contents",
   "toc_cell": false,
   "toc_position": {},
   "toc_section_display": true,
   "toc_window_display": false
  }
 },
 "nbformat": 4,
 "nbformat_minor": 5
}
