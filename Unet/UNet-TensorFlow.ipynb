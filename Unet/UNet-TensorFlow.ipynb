{
 "cells": [
  {
   "cell_type": "markdown",
   "id": "ee3786e1",
   "metadata": {},
   "source": [
    "## U-Net: Convolutional Networks for Biomedical Image Segmentation\n",
    "\n",
    "Link: https://arxiv.org/abs/1505.04597\n",
    "\n",
    "![U-Net](https://lmb.informatik.uni-freiburg.de/people/ronneber/u-net/u-net-architecture.png)"
   ]
  },
  {
   "cell_type": "code",
   "execution_count": 1,
   "id": "8b8a5937",
   "metadata": {},
   "outputs": [
    {
     "name": "stdout",
     "output_type": "stream",
     "text": [
      "TensorFlow: 2.9.2\n",
      "Physical Devices: [PhysicalDevice(name='/physical_device:GPU:0', device_type='GPU')]\n"
     ]
    }
   ],
   "source": [
    "import os\n",
    "os.environ['TF_CPP_MIN_LOG_LEVEL'] = '2'\n",
    "\n",
    "import tensorflow as tf\n",
    "from tensorflow import keras\n",
    "from tensorflow.keras import layers\n",
    "\n",
    "physical_devices = tf.config.list_physical_devices('GPU')\n",
    "tf.config.experimental.set_memory_growth(physical_devices[0], True)\n",
    "\n",
    "print(f'''TensorFlow: {tf.__version__}\n",
    "Physical Devices: {physical_devices}''')"
   ]
  },
  {
   "cell_type": "code",
   "execution_count": 2,
   "id": "11242d61",
   "metadata": {},
   "outputs": [],
   "source": [
    "class DoubleConv(layers.Layer):\n",
    "    def __init__(self, out_filters):\n",
    "        super(DoubleConv, self).__init__()\n",
    "        self.conv1 = keras.Sequential([\n",
    "            layers.Conv2D(filters=out_filters, kernel_size=3, strides=1),\n",
    "            layers.BatchNormalization(),\n",
    "            layers.Activation('relu')\n",
    "        ])\n",
    "        self.conv2 = keras.Sequential([\n",
    "            layers.Conv2D(filters=out_filters, kernel_size=3, strides=1),\n",
    "            layers.BatchNormalization(),\n",
    "            layers.Activation('relu')\n",
    "        ])\n",
    "    def call(self, x, training=False):\n",
    "        x = self.conv1(x, training=training)\n",
    "        x = self.conv2(x, training=training)\n",
    "        return x"
   ]
  },
  {
   "cell_type": "code",
   "execution_count": 3,
   "id": "4f812fe8",
   "metadata": {},
   "outputs": [],
   "source": [
    "def crop_image(x, target):\n",
    "    t = (x.shape[1] - target[1])//2\n",
    "    return x[:, t:-t, t:-t, :]"
   ]
  },
  {
   "cell_type": "code",
   "execution_count": 4,
   "id": "083682aa",
   "metadata": {},
   "outputs": [],
   "source": [
    "class UNet(keras.Model):\n",
    "    def __init__(self):\n",
    "        super(UNet, self).__init__()\n",
    "        self.down_conv1 = DoubleConv(out_filters=64)\n",
    "        self.down_conv2 = DoubleConv(out_filters=128)\n",
    "        self.down_conv3 = DoubleConv(out_filters=256)        \n",
    "        self.down_conv4 = DoubleConv(out_filters=512)\n",
    "        self.down_conv5 = DoubleConv(out_filters=1024)\n",
    "        \n",
    "        self.up_conv1_trans = layers.Conv2DTranspose(filters=512, kernel_size=2, strides=2, padding='same')\n",
    "        self.up_conv1 = DoubleConv(out_filters=512)\n",
    "        self.up_conv2_trans = layers.Conv2DTranspose(filters=256, kernel_size=2, strides=2, padding='same')\n",
    "        self.up_conv2 = DoubleConv(out_filters=256)\n",
    "        self.up_conv3_trans = layers.Conv2DTranspose(filters=128, kernel_size=2, strides=2, padding='same')\n",
    "        self.up_conv3 = DoubleConv(out_filters=128)\n",
    "        self.up_conv4_trans = layers.Conv2DTranspose(filters=64, kernel_size=2, strides=2, padding='same')\n",
    "        self.up_conv4 = DoubleConv(out_filters=64)\n",
    "        \n",
    "        self.conv = layers.Conv2D(filters=2, kernel_size=3, strides=1, padding='same')\n",
    "        self.maxpool = layers.MaxPool2D(pool_size=(2, 2), strides=(2, 2))\n",
    "    \n",
    "    def call(self, x, training=False):\n",
    "        xs = []\n",
    "        x = self.down_conv1(x, training=training)\n",
    "        xs.append(x)\n",
    "        print(f'Down Conv1: {x.shape}')\n",
    "        x = self.maxpool(x)\n",
    "        print(f'Down Conv1 Maxpool: {x.shape}')\n",
    "        \n",
    "        x = self.down_conv2(x, training=training)\n",
    "        xs.append(x)\n",
    "        print(f'Down Conv2: {x.shape}')\n",
    "        x = self.maxpool(x)\n",
    "        print(f'Down Conv2 Maxpool: {x.shape}')\n",
    "        \n",
    "        x = self.down_conv3(x, training=training)\n",
    "        xs.append(x)\n",
    "        print(f'Down Conv3: {x.shape}')\n",
    "        x = self.maxpool(x)\n",
    "        print(f'Down Conv3 Maxpool: {x.shape}')\n",
    "        \n",
    "        x = self.down_conv4(x, training=training)\n",
    "        xs.append(x)\n",
    "        print(f'Down Conv4: {x.shape}')\n",
    "        x = self.maxpool(x)\n",
    "        print(f'Down Conv4 Maxpool: {x.shape}')\n",
    "        \n",
    "        x = self.down_conv5(x)\n",
    "        print(f'Down Conv5: {x.shape}')\n",
    "        \n",
    "        x = self.up_conv1_trans(x)\n",
    "        t = crop_image(xs[-1], x.shape)\n",
    "        print(f'Up ConvTranspose1: {x.shape}')\n",
    "        x = self.up_conv1(layers.concatenate([x, t]), training=training)\n",
    "        print(f'Up Conv1: {x.shape}')\n",
    "        \n",
    "        x = self.up_conv2_trans(x)\n",
    "        t = crop_image(xs[-2], x.shape)\n",
    "        print(f'Up ConvTranspose2: {x.shape}')\n",
    "        x = self.up_conv2(layers.concatenate([x, t]), training=training)\n",
    "        print(f'Up Conv2: {x.shape}')\n",
    "        \n",
    "        x = self.up_conv3_trans(x)\n",
    "        t = crop_image(xs[-3], x.shape)\n",
    "        print(f'Up ConvTranspose3: {x.shape}')\n",
    "        x = self.up_conv3(layers.concatenate([x, t]), training=training)\n",
    "        print(f'Up Conv3: {x.shape}')\n",
    "        \n",
    "        x = self.up_conv4_trans(x)\n",
    "        t = crop_image(xs[0], x.shape)\n",
    "        print(f'Up ConvTranspose4: {x.shape}')\n",
    "        x = self.up_conv4(layers.concatenate([x, t]), training=training)\n",
    "        print(f'Up Conv4: {x.shape}')\n",
    "        \n",
    "        x = self.conv(x)\n",
    "        print(f'Conv: {x.shape}')\n",
    "        \n",
    "        return x\n",
    "        "
   ]
  },
  {
   "cell_type": "code",
   "execution_count": 6,
   "id": "f9746772",
   "metadata": {},
   "outputs": [
    {
     "name": "stdout",
     "output_type": "stream",
     "text": [
      "Down Conv1: (1, 568, 568, 64)\n",
      "Down Conv1 Maxpool: (1, 284, 284, 64)\n",
      "Down Conv2: (1, 280, 280, 128)\n",
      "Down Conv2 Maxpool: (1, 140, 140, 128)\n",
      "Down Conv3: (1, 136, 136, 256)\n",
      "Down Conv3 Maxpool: (1, 68, 68, 256)\n",
      "Down Conv4: (1, 64, 64, 512)\n",
      "Down Conv4 Maxpool: (1, 32, 32, 512)\n",
      "Down Conv5: (1, 28, 28, 1024)\n",
      "Up ConvTranspose1: (1, 56, 56, 512)\n",
      "Up Conv1: (1, 52, 52, 512)\n",
      "Up ConvTranspose2: (1, 104, 104, 256)\n",
      "Up Conv2: (1, 100, 100, 256)\n",
      "Up ConvTranspose3: (1, 200, 200, 128)\n",
      "Up Conv3: (1, 196, 196, 128)\n",
      "Up ConvTranspose4: (1, 392, 392, 64)\n",
      "Up Conv4: (1, 388, 388, 64)\n",
      "Conv: (1, 388, 388, 2)\n"
     ]
    }
   ],
   "source": [
    "model = UNet()\n",
    "x = tf.random.normal((1, 572, 572, 3))\n",
    "y = model(x)"
   ]
  }
 ],
 "metadata": {
  "kernelspec": {
   "display_name": "tensorflow",
   "language": "python",
   "name": "tensorflow"
  },
  "language_info": {
   "codemirror_mode": {
    "name": "ipython",
    "version": 3
   },
   "file_extension": ".py",
   "mimetype": "text/x-python",
   "name": "python",
   "nbconvert_exporter": "python",
   "pygments_lexer": "ipython3",
   "version": "3.9.10"
  },
  "toc": {
   "base_numbering": 1,
   "nav_menu": {},
   "number_sections": true,
   "sideBar": true,
   "skip_h1_title": false,
   "title_cell": "Table of Contents",
   "title_sidebar": "Contents",
   "toc_cell": false,
   "toc_position": {},
   "toc_section_display": true,
   "toc_window_display": false
  }
 },
 "nbformat": 4,
 "nbformat_minor": 5
}
